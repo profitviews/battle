{
 "cells": [
  {
   "cell_type": "code",
   "execution_count": 42,
   "id": "cdad6ab7",
   "metadata": {},
   "outputs": [],
   "source": [
    "import requests"
   ]
  },
  {
   "cell_type": "code",
   "execution_count": null,
   "id": "05c07f0e",
   "metadata": {},
   "outputs": [],
   "source": [
    "signal_id = \"YOUR_SIGNAL_ID\""
   ]
  },
  {
   "cell_type": "code",
   "execution_count": null,
   "id": "5c956345",
   "metadata": {},
   "outputs": [],
   "source": [
    "wh = f\"https://profitview.net/trading/signal/{signal_id}/signal\""
   ]
  },
  {
   "cell_type": "code",
   "execution_count": null,
   "id": "72323204",
   "metadata": {},
   "outputs": [],
   "source": [
    "def send_get_request(data):\n",
    "    try:\n",
    "        response = requests.get(wh, params=data)\n",
    "        response.raise_for_status()\n",
    "        print(\"Request successful:\", response.status_code)\n",
    "    except requests.exceptions.RequestException as e:\n",
    "        print(\"Request failed:\", e)\n"
   ]
  },
  {
   "cell_type": "code",
   "execution_count": null,
   "id": "3fcdef2f",
   "metadata": {},
   "outputs": [],
   "source": [
    "send_get_request({\"bid\": 4300.0, \"sym\": \"ETHUSD\"})"
   ]
  },
  {
   "cell_type": "code",
   "execution_count": null,
   "id": "e1bbd82b",
   "metadata": {},
   "outputs": [],
   "source": [
    "send_get_request({ \"size\": 1.0 , \"sym\": \"XBTUSD\"})"
   ]
  },
  {
   "cell_type": "code",
   "execution_count": null,
   "id": "b7c876a1",
   "metadata": {},
   "outputs": [],
   "source": [
    "send_get_request({\"stop\": \"\", \"sym\": \"ETHUSD\"})"
   ]
  }
 ],
 "metadata": {
  "kernelspec": {
   "display_name": "battle",
   "language": "python",
   "name": "python3"
  },
  "language_info": {
   "codemirror_mode": {
    "name": "ipython",
    "version": 3
   },
   "file_extension": ".py",
   "mimetype": "text/x-python",
   "name": "python",
   "nbconvert_exporter": "python",
   "pygments_lexer": "ipython3",
   "version": "3.9.15"
  }
 },
 "nbformat": 4,
 "nbformat_minor": 5
}
